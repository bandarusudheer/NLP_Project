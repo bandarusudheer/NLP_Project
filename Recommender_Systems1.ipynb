{
  "nbformat": 4,
  "nbformat_minor": 0,
  "metadata": {
    "kernelspec": {
      "display_name": "Python 3",
      "language": "python",
      "name": "python3"
    },
    "language_info": {
      "codemirror_mode": {
        "name": "ipython",
        "version": 3
      },
      "file_extension": ".py",
      "mimetype": "text/x-python",
      "name": "python",
      "nbconvert_exporter": "python",
      "pygments_lexer": "ipython3",
      "version": "3.7.1"
    },
    "colab": {
      "name": "Recommender_Systems1.ipynb",
      "provenance": [],
      "collapsed_sections": []
    }
  },
  "cells": [
    {
      "cell_type": "code",
      "metadata": {
        "_uuid": "c1fdd129c1cbab68ae3e6bf2062575f01f80b87c",
        "execution": {
          "iopub.execute_input": "2021-10-16T02:35:53.778651Z",
          "iopub.status.busy": "2021-10-16T02:35:53.778095Z",
          "iopub.status.idle": "2021-10-16T02:35:54.524516Z",
          "shell.execute_reply": "2021-10-16T02:35:54.523810Z",
          "shell.execute_reply.started": "2021-10-16T02:35:53.778565Z"
        },
        "id": "Mrr65LX91Rxl"
      },
      "source": [
        "import pandas as pd \n",
        "import numpy as np \n",
        "dataframe_1=pd.read_csv('credits.csv')\n",
        "dataframe_2=pd.read_csv('movies.csv')"
      ],
      "execution_count": null,
      "outputs": []
    },
    {
      "cell_type": "code",
      "metadata": {
        "_uuid": "c87bda9d56a936be126d03eda0bc743ee35be461",
        "execution": {
          "iopub.execute_input": "2021-10-16T02:37:35.938956Z",
          "iopub.status.busy": "2021-10-16T02:37:35.938477Z",
          "iopub.status.idle": "2021-10-16T02:37:35.953130Z",
          "shell.execute_reply": "2021-10-16T02:37:35.952183Z",
          "shell.execute_reply.started": "2021-10-16T02:37:35.938887Z"
        },
        "id": "soDA0qL11Rxr"
      },
      "source": [
        "dataframe_1.columns = ['id','tittle','cast','crew']\n",
        "dataframe_2= dataframe_2.merge(dataframe_1,on='id')"
      ],
      "execution_count": null,
      "outputs": []
    },
    {
      "cell_type": "code",
      "metadata": {
        "_uuid": "71d266ed92947c51acf07189d3b42379134ef6e7",
        "colab": {
          "base_uri": "https://localhost:8080/",
          "height": 729
        },
        "id": "uIlF5xeY1Rxs",
        "outputId": "ade93906-bfc4-4a45-91cf-dc164b6e38f4"
      },
      "source": [
        "dataframe_2.head(5)"
      ],
      "execution_count": null,
      "outputs": [
        {
          "output_type": "execute_result",
          "data": {
            "text/html": [
              "<div>\n",
              "<style scoped>\n",
              "    .dataframe tbody tr th:only-of-type {\n",
              "        vertical-align: middle;\n",
              "    }\n",
              "\n",
              "    .dataframe tbody tr th {\n",
              "        vertical-align: top;\n",
              "    }\n",
              "\n",
              "    .dataframe thead th {\n",
              "        text-align: right;\n",
              "    }\n",
              "</style>\n",
              "<table border=\"1\" class=\"dataframe\">\n",
              "  <thead>\n",
              "    <tr style=\"text-align: right;\">\n",
              "      <th></th>\n",
              "      <th>budget</th>\n",
              "      <th>genres</th>\n",
              "      <th>homepage</th>\n",
              "      <th>id</th>\n",
              "      <th>keywords</th>\n",
              "      <th>original_language</th>\n",
              "      <th>original_title</th>\n",
              "      <th>overview</th>\n",
              "      <th>popularity</th>\n",
              "      <th>production_companies</th>\n",
              "      <th>production_countries</th>\n",
              "      <th>release_date</th>\n",
              "      <th>revenue</th>\n",
              "      <th>runtime</th>\n",
              "      <th>spoken_languages</th>\n",
              "      <th>status</th>\n",
              "      <th>tagline</th>\n",
              "      <th>title</th>\n",
              "      <th>vote_average</th>\n",
              "      <th>vote_count</th>\n",
              "      <th>tittle</th>\n",
              "      <th>cast</th>\n",
              "      <th>crew</th>\n",
              "    </tr>\n",
              "  </thead>\n",
              "  <tbody>\n",
              "    <tr>\n",
              "      <th>0</th>\n",
              "      <td>237000000</td>\n",
              "      <td>[{\"id\": 28, \"name\": \"Action\"}, {\"id\": 12, \"nam...</td>\n",
              "      <td>http://www.avatarmovie.com/</td>\n",
              "      <td>19995</td>\n",
              "      <td>[{\"id\": 1463, \"name\": \"culture clash\"}, {\"id\":...</td>\n",
              "      <td>en</td>\n",
              "      <td>Avatar</td>\n",
              "      <td>In the 22nd century, a paraplegic Marine is di...</td>\n",
              "      <td>150.437577</td>\n",
              "      <td>[{\"name\": \"Ingenious Film Partners\", \"id\": 289...</td>\n",
              "      <td>[{\"iso_3166_1\": \"US\", \"name\": \"United States o...</td>\n",
              "      <td>2009-12-10</td>\n",
              "      <td>2787965087</td>\n",
              "      <td>162.0</td>\n",
              "      <td>[{\"iso_639_1\": \"en\", \"name\": \"English\"}, {\"iso...</td>\n",
              "      <td>Released</td>\n",
              "      <td>Enter the World of Pandora.</td>\n",
              "      <td>Avatar</td>\n",
              "      <td>7.2</td>\n",
              "      <td>11800</td>\n",
              "      <td>Avatar</td>\n",
              "      <td>[{\"cast_id\": 242, \"character\": \"Jake Sully\", \"...</td>\n",
              "      <td>[{\"credit_id\": \"52fe48009251416c750aca23\", \"de...</td>\n",
              "    </tr>\n",
              "    <tr>\n",
              "      <th>1</th>\n",
              "      <td>300000000</td>\n",
              "      <td>[{\"id\": 12, \"name\": \"Adventure\"}, {\"id\": 14, \"...</td>\n",
              "      <td>http://disney.go.com/disneypictures/pirates/</td>\n",
              "      <td>285</td>\n",
              "      <td>[{\"id\": 270, \"name\": \"ocean\"}, {\"id\": 726, \"na...</td>\n",
              "      <td>en</td>\n",
              "      <td>Pirates of the Caribbean: At World's End</td>\n",
              "      <td>Captain Barbossa, long believed to be dead, ha...</td>\n",
              "      <td>139.082615</td>\n",
              "      <td>[{\"name\": \"Walt Disney Pictures\", \"id\": 2}, {\"...</td>\n",
              "      <td>[{\"iso_3166_1\": \"US\", \"name\": \"United States o...</td>\n",
              "      <td>2007-05-19</td>\n",
              "      <td>961000000</td>\n",
              "      <td>169.0</td>\n",
              "      <td>[{\"iso_639_1\": \"en\", \"name\": \"English\"}]</td>\n",
              "      <td>Released</td>\n",
              "      <td>At the end of the world, the adventure begins.</td>\n",
              "      <td>Pirates of the Caribbean: At World's End</td>\n",
              "      <td>6.9</td>\n",
              "      <td>4500</td>\n",
              "      <td>Pirates of the Caribbean: At World's End</td>\n",
              "      <td>[{\"cast_id\": 4, \"character\": \"Captain Jack Spa...</td>\n",
              "      <td>[{\"credit_id\": \"52fe4232c3a36847f800b579\", \"de...</td>\n",
              "    </tr>\n",
              "    <tr>\n",
              "      <th>2</th>\n",
              "      <td>245000000</td>\n",
              "      <td>[{\"id\": 28, \"name\": \"Action\"}, {\"id\": 12, \"nam...</td>\n",
              "      <td>http://www.sonypictures.com/movies/spectre/</td>\n",
              "      <td>206647</td>\n",
              "      <td>[{\"id\": 470, \"name\": \"spy\"}, {\"id\": 818, \"name...</td>\n",
              "      <td>en</td>\n",
              "      <td>Spectre</td>\n",
              "      <td>A cryptic message from Bond’s past sends him o...</td>\n",
              "      <td>107.376788</td>\n",
              "      <td>[{\"name\": \"Columbia Pictures\", \"id\": 5}, {\"nam...</td>\n",
              "      <td>[{\"iso_3166_1\": \"GB\", \"name\": \"United Kingdom\"...</td>\n",
              "      <td>2015-10-26</td>\n",
              "      <td>880674609</td>\n",
              "      <td>148.0</td>\n",
              "      <td>[{\"iso_639_1\": \"fr\", \"name\": \"Fran\\u00e7ais\"},...</td>\n",
              "      <td>Released</td>\n",
              "      <td>A Plan No One Escapes</td>\n",
              "      <td>Spectre</td>\n",
              "      <td>6.3</td>\n",
              "      <td>4466</td>\n",
              "      <td>Spectre</td>\n",
              "      <td>[{\"cast_id\": 1, \"character\": \"James Bond\", \"cr...</td>\n",
              "      <td>[{\"credit_id\": \"54805967c3a36829b5002c41\", \"de...</td>\n",
              "    </tr>\n",
              "    <tr>\n",
              "      <th>3</th>\n",
              "      <td>250000000</td>\n",
              "      <td>[{\"id\": 28, \"name\": \"Action\"}, {\"id\": 80, \"nam...</td>\n",
              "      <td>http://www.thedarkknightrises.com/</td>\n",
              "      <td>49026</td>\n",
              "      <td>[{\"id\": 849, \"name\": \"dc comics\"}, {\"id\": 853,...</td>\n",
              "      <td>en</td>\n",
              "      <td>The Dark Knight Rises</td>\n",
              "      <td>Following the death of District Attorney Harve...</td>\n",
              "      <td>112.312950</td>\n",
              "      <td>[{\"name\": \"Legendary Pictures\", \"id\": 923}, {\"...</td>\n",
              "      <td>[{\"iso_3166_1\": \"US\", \"name\": \"United States o...</td>\n",
              "      <td>2012-07-16</td>\n",
              "      <td>1084939099</td>\n",
              "      <td>165.0</td>\n",
              "      <td>[{\"iso_639_1\": \"en\", \"name\": \"English\"}]</td>\n",
              "      <td>Released</td>\n",
              "      <td>The Legend Ends</td>\n",
              "      <td>The Dark Knight Rises</td>\n",
              "      <td>7.6</td>\n",
              "      <td>9106</td>\n",
              "      <td>The Dark Knight Rises</td>\n",
              "      <td>[{\"cast_id\": 2, \"character\": \"Bruce Wayne / Ba...</td>\n",
              "      <td>[{\"credit_id\": \"52fe4781c3a36847f81398c3\", \"de...</td>\n",
              "    </tr>\n",
              "    <tr>\n",
              "      <th>4</th>\n",
              "      <td>260000000</td>\n",
              "      <td>[{\"id\": 28, \"name\": \"Action\"}, {\"id\": 12, \"nam...</td>\n",
              "      <td>http://movies.disney.com/john-carter</td>\n",
              "      <td>49529</td>\n",
              "      <td>[{\"id\": 818, \"name\": \"based on novel\"}, {\"id\":...</td>\n",
              "      <td>en</td>\n",
              "      <td>John Carter</td>\n",
              "      <td>John Carter is a war-weary, former military ca...</td>\n",
              "      <td>43.926995</td>\n",
              "      <td>[{\"name\": \"Walt Disney Pictures\", \"id\": 2}]</td>\n",
              "      <td>[{\"iso_3166_1\": \"US\", \"name\": \"United States o...</td>\n",
              "      <td>2012-03-07</td>\n",
              "      <td>284139100</td>\n",
              "      <td>132.0</td>\n",
              "      <td>[{\"iso_639_1\": \"en\", \"name\": \"English\"}]</td>\n",
              "      <td>Released</td>\n",
              "      <td>Lost in our world, found in another.</td>\n",
              "      <td>John Carter</td>\n",
              "      <td>6.1</td>\n",
              "      <td>2124</td>\n",
              "      <td>John Carter</td>\n",
              "      <td>[{\"cast_id\": 5, \"character\": \"John Carter\", \"c...</td>\n",
              "      <td>[{\"credit_id\": \"52fe479ac3a36847f813eaa3\", \"de...</td>\n",
              "    </tr>\n",
              "  </tbody>\n",
              "</table>\n",
              "</div>"
            ],
            "text/plain": [
              "      budget  ...                                               crew\n",
              "0  237000000  ...  [{\"credit_id\": \"52fe48009251416c750aca23\", \"de...\n",
              "1  300000000  ...  [{\"credit_id\": \"52fe4232c3a36847f800b579\", \"de...\n",
              "2  245000000  ...  [{\"credit_id\": \"54805967c3a36829b5002c41\", \"de...\n",
              "3  250000000  ...  [{\"credit_id\": \"52fe4781c3a36847f81398c3\", \"de...\n",
              "4  260000000  ...  [{\"credit_id\": \"52fe479ac3a36847f813eaa3\", \"de...\n",
              "\n",
              "[5 rows x 23 columns]"
            ]
          },
          "metadata": {},
          "execution_count": 66
        }
      ]
    },
    {
      "cell_type": "code",
      "metadata": {
        "_uuid": "5799b99c5e5ed5b7723ae8b31e1fc9fb1e7b89ec",
        "colab": {
          "base_uri": "https://localhost:8080/"
        },
        "id": "yPa3zyiY1Rxu",
        "outputId": "1f9c2a5f-26b3-44d0-88cc-3aa508c31f9d"
      },
      "source": [
        "mean = dataframe_2['vote_average'].mean()\n",
        "mean"
      ],
      "execution_count": null,
      "outputs": [
        {
          "output_type": "execute_result",
          "data": {
            "text/plain": [
              "6.092171559442011"
            ]
          },
          "metadata": {},
          "execution_count": 71
        }
      ]
    },
    {
      "cell_type": "code",
      "metadata": {
        "_uuid": "f2f1eaff1e4349b5d2d11dd5ce79c19a85561148",
        "colab": {
          "base_uri": "https://localhost:8080/"
        },
        "id": "p2UMaG3Q1Rxv",
        "outputId": "6700c362-6ab5-4a09-a073-b6fa571c9ebd"
      },
      "source": [
        "min_votes= df2['vote_count'].quantile(0.9)\n",
        "min_votes"
      ],
      "execution_count": null,
      "outputs": [
        {
          "output_type": "execute_result",
          "data": {
            "text/plain": [
              "3235.2000000000007"
            ]
          },
          "metadata": {},
          "execution_count": 70
        }
      ]
    },
    {
      "cell_type": "code",
      "metadata": {
        "_uuid": "a22008df6d81d3b716d39a56efd3d547345bfbce",
        "colab": {
          "base_uri": "https://localhost:8080/"
        },
        "id": "id1Wecdr1Rxw",
        "outputId": "ef3af27a-6444-4902-ef3a-6ceaa321abea"
      },
      "source": [
        "qualified_movies = df2.copy().loc[dataframe_2['vote_count'] >= min_votes]\n",
        "qualified_movies.shape"
      ],
      "execution_count": null,
      "outputs": [
        {
          "output_type": "execute_result",
          "data": {
            "text/plain": [
              "(183, 23)"
            ]
          },
          "metadata": {},
          "execution_count": 69
        }
      ]
    },
    {
      "cell_type": "code",
      "metadata": {
        "_uuid": "bb680ed0fb1c3020785d34152c57c6e2279d4424",
        "id": "fgK1N1uN1Rxz"
      },
      "source": [
        "def weighted_rating(x, min_votes=min_votes, mean=mean):\n",
        "    v = x['vote_count']\n",
        "    R = x['vote_average']\n",
        "    # Calculation based on the IMDB formula\n",
        "    return (v/(v+min_votes) * R) + (min_votes/(min_votes+v) * mean)"
      ],
      "execution_count": null,
      "outputs": []
    },
    {
      "cell_type": "code",
      "metadata": {
        "_uuid": "d2d189929715237ab19a18fb8747239b86092968",
        "id": "07LEF1GR1Rxz"
      },
      "source": [
        "# Define a new feature 'score' and calculate its value with `weighted_rating()`\n",
        "qualified_movies['score'] = qualified_movies.apply(weighted_rating, axis=1)"
      ],
      "execution_count": null,
      "outputs": []
    },
    {
      "cell_type": "code",
      "metadata": {
        "_uuid": "a9a9fc3810ea67c31908bbdf8bb930daa918102b",
        "colab": {
          "base_uri": "https://localhost:8080/",
          "height": 363
        },
        "id": "wHEYkwRm1Rx0",
        "outputId": "d7fbe97c-423a-49aa-8800-b0d8197e261b"
      },
      "source": [
        "#Sort movies based on score calculated above\n",
        "qualified_movies = qualified_movies.sort_values('score', ascending=False)\n",
        "\n",
        "#Print the top 15 movies\n",
        "qualified_movies[['title', 'vote_count', 'vote_average', 'score']].head(10)"
      ],
      "execution_count": null,
      "outputs": [
        {
          "output_type": "execute_result",
          "data": {
            "text/html": [
              "<div>\n",
              "<style scoped>\n",
              "    .dataframe tbody tr th:only-of-type {\n",
              "        vertical-align: middle;\n",
              "    }\n",
              "\n",
              "    .dataframe tbody tr th {\n",
              "        vertical-align: top;\n",
              "    }\n",
              "\n",
              "    .dataframe thead th {\n",
              "        text-align: right;\n",
              "    }\n",
              "</style>\n",
              "<table border=\"1\" class=\"dataframe\">\n",
              "  <thead>\n",
              "    <tr style=\"text-align: right;\">\n",
              "      <th></th>\n",
              "      <th>title</th>\n",
              "      <th>vote_count</th>\n",
              "      <th>vote_average</th>\n",
              "      <th>score</th>\n",
              "    </tr>\n",
              "  </thead>\n",
              "  <tbody>\n",
              "    <tr>\n",
              "      <th>65</th>\n",
              "      <td>The Dark Knight</td>\n",
              "      <td>12002</td>\n",
              "      <td>8.2</td>\n",
              "      <td>7.752461</td>\n",
              "    </tr>\n",
              "    <tr>\n",
              "      <th>662</th>\n",
              "      <td>Fight Club</td>\n",
              "      <td>9413</td>\n",
              "      <td>8.3</td>\n",
              "      <td>7.735274</td>\n",
              "    </tr>\n",
              "    <tr>\n",
              "      <th>96</th>\n",
              "      <td>Inception</td>\n",
              "      <td>13752</td>\n",
              "      <td>8.1</td>\n",
              "      <td>7.717611</td>\n",
              "    </tr>\n",
              "    <tr>\n",
              "      <th>95</th>\n",
              "      <td>Interstellar</td>\n",
              "      <td>10867</td>\n",
              "      <td>8.1</td>\n",
              "      <td>7.639382</td>\n",
              "    </tr>\n",
              "    <tr>\n",
              "      <th>809</th>\n",
              "      <td>Forrest Gump</td>\n",
              "      <td>7927</td>\n",
              "      <td>8.2</td>\n",
              "      <td>7.589077</td>\n",
              "    </tr>\n",
              "    <tr>\n",
              "      <th>329</th>\n",
              "      <td>The Lord of the Rings: The Return of the King</td>\n",
              "      <td>8064</td>\n",
              "      <td>8.1</td>\n",
              "      <td>7.525116</td>\n",
              "    </tr>\n",
              "    <tr>\n",
              "      <th>262</th>\n",
              "      <td>The Lord of the Rings: The Fellowship of the Ring</td>\n",
              "      <td>8705</td>\n",
              "      <td>8.0</td>\n",
              "      <td>7.483073</td>\n",
              "    </tr>\n",
              "    <tr>\n",
              "      <th>94</th>\n",
              "      <td>Guardians of the Galaxy</td>\n",
              "      <td>9742</td>\n",
              "      <td>7.9</td>\n",
              "      <td>7.449311</td>\n",
              "    </tr>\n",
              "    <tr>\n",
              "      <th>330</th>\n",
              "      <td>The Lord of the Rings: The Two Towers</td>\n",
              "      <td>7487</td>\n",
              "      <td>8.0</td>\n",
              "      <td>7.424353</td>\n",
              "    </tr>\n",
              "    <tr>\n",
              "      <th>634</th>\n",
              "      <td>The Matrix</td>\n",
              "      <td>8907</td>\n",
              "      <td>7.9</td>\n",
              "      <td>7.418317</td>\n",
              "    </tr>\n",
              "  </tbody>\n",
              "</table>\n",
              "</div>"
            ],
            "text/plain": [
              "                                                 title  ...     score\n",
              "65                                     The Dark Knight  ...  7.752461\n",
              "662                                         Fight Club  ...  7.735274\n",
              "96                                           Inception  ...  7.717611\n",
              "95                                        Interstellar  ...  7.639382\n",
              "809                                       Forrest Gump  ...  7.589077\n",
              "329      The Lord of the Rings: The Return of the King  ...  7.525116\n",
              "262  The Lord of the Rings: The Fellowship of the Ring  ...  7.483073\n",
              "94                             Guardians of the Galaxy  ...  7.449311\n",
              "330              The Lord of the Rings: The Two Towers  ...  7.424353\n",
              "634                                         The Matrix  ...  7.418317\n",
              "\n",
              "[10 rows x 4 columns]"
            ]
          },
          "metadata": {},
          "execution_count": 74
        }
      ]
    },
    {
      "cell_type": "code",
      "metadata": {
        "_uuid": "207f7058f92698b5fd776f7771a3ac0cc2928bf1",
        "colab": {
          "base_uri": "https://localhost:8080/",
          "height": 313
        },
        "id": "pFkWK7lJ1Rx0",
        "outputId": "745ced36-4590-48ca-9139-0e71553523c4"
      },
      "source": [
        "popular_mves= dataframe_2.sort_values('popularity', ascending=False)\n",
        "import matplotlib.pyplot as plt\n",
        "plt.figure(figsize=(12,4))\n",
        "\n",
        "plt.barh(popular_mves['title'].head(6),popular_mves['popularity'].head(6), align='center',\n",
        "        color='skyblue')\n",
        "plt.gca().invert_yaxis()\n",
        "plt.xlabel(\"Popularity\")\n",
        "plt.title(\"Popular Movies\")\n"
      ],
      "execution_count": null,
      "outputs": [
        {
          "output_type": "execute_result",
          "data": {
            "text/plain": [
              "Text(0.5, 1.0, 'Popular Movies')"
            ]
          },
          "metadata": {},
          "execution_count": 75
        },
        {
          "output_type": "display_data",
          "data": {
            "image/png": "[encoded data removed]",
            "text/plain": [
              "<Figure size 864x288 with 1 Axes>"
            ]
          },
          "metadata": {
            "needs_background": "light"
          }
        }
      ]
    },
    {
      "cell_type": "code",
      "metadata": {
        "_uuid": "5e676c38ace04a24205b76b16dac0fa3e058027f",
        "colab": {
          "base_uri": "https://localhost:8080/"
        },
        "id": "M_KFsEGf1Rx2",
        "outputId": "738549fc-f49b-434b-f7ac-2cdb9b154142"
      },
      "source": [
        "dataframe_2['overview'].head(5)"
      ],
      "execution_count": null,
      "outputs": [
        {
          "output_type": "execute_result",
          "data": {
            "text/plain": [
              "0    In the 22nd century, a paraplegic Marine is di...\n",
              "1    Captain Barbossa, long believed to be dead, ha...\n",
              "2    A cryptic message from Bond’s past sends him o...\n",
              "3    Following the death of District Attorney Harve...\n",
              "4    John Carter is a war-weary, former military ca...\n",
              "Name: overview, dtype: object"
            ]
          },
          "metadata": {},
          "execution_count": 26
        }
      ]
    },
    {
      "cell_type": "code",
      "metadata": {
        "_uuid": "a92da8cde39c61deef5a1b8efa31ed84cda7f5fe",
        "colab": {
          "base_uri": "https://localhost:8080/"
        },
        "id": "7XdAMRta1Rx3",
        "outputId": "1a06aec4-16e4-4625-f159-7995a8642489"
      },
      "source": [
        "#Import TfIdfVectorizer from scikit-learn\n",
        "from sklearn.feature_extraction.text import TfidfVectorizer\n",
        "\n",
        "#Define a TF-IDF Vectorizer Object. Remove all english stop words such as 'the', 'a'\n",
        "tfidf = TfidfVectorizer(stop_words='english')\n",
        "\n",
        "#Replace NaN with an empty string\n",
        "dataframe_2['overview'] = dataframe_2['overview'].fillna('')\n",
        "\n",
        "#Construct the required TF-IDF matrix by fitting and transforming the data\n",
        "tfidf_matrix = tfidf.fit_transform(dataframe_2['overview'])\n",
        "\n",
        "#Output the shape of tfidf_matrix\n",
        "tfidf_matrix.shape"
      ],
      "execution_count": null,
      "outputs": [
        {
          "output_type": "execute_result",
          "data": {
            "text/plain": [
              "(4803, 20978)"
            ]
          },
          "metadata": {},
          "execution_count": 28
        }
      ]
    },
    {
      "cell_type": "code",
      "metadata": {
        "_uuid": "5eb17d12220eecab4faf01bbfd13e79d8e446537",
        "id": "PqBaVhP61Rx8"
      },
      "source": [
        "# Import linear_kernel\n",
        "from sklearn.metrics.pairwise import linear_kernel\n",
        "\n",
        "# Compute the cosine similarity matrix\n",
        "cosine_sim = linear_kernel(tfidf_matrix, tfidf_matrix)"
      ],
      "execution_count": null,
      "outputs": []
    },
    {
      "cell_type": "code",
      "metadata": {
        "_uuid": "55df2df36be98e6dec5f617a5aa51b77c500faa4",
        "id": "myBVsU-U1Rx9"
      },
      "source": [
        "#Construct a reverse map of indices and movie titles\n",
        "indices = pd.Series(df2.index, index=df2['title']).drop_duplicates()\n"
      ],
      "execution_count": null,
      "outputs": []
    },
    {
      "cell_type": "code",
      "metadata": {
        "_uuid": "9c383fcbb916dce464b01adf980d26ad96aebe0e",
        "id": "6ZtY6LwG1Rx9"
      },
      "source": [
        "# Function that takes in movie title as input and outputs most similar movies\n",
        "def get_recommendations(title, cosine_sim=cosine_sim):\n",
        "    # Get the index of the movie that matches the title\n",
        "    index = indices[title]\n",
        "\n",
        "    # Get the pairwsie similarity scores of all movies with that movie\n",
        "    similarity_scores = list(enumerate(cosine_sim[index]))\n",
        "\n",
        "    # Sort the movies based on the similarity scores\n",
        "    similarity_scores = sorted(similarity_scores, key=lambda x: x[1], reverse=True)\n",
        "\n",
        "    # Get the scores of the 10 most similar movies\n",
        "    similarity_scores = similarity_scores[1:11]\n",
        "\n",
        "    # Get the movie indices\n",
        "    movie_indices = [i[0] for i in similarity_scores]\n",
        "\n",
        "    # Return the top 10 most similar movies\n",
        "    return dataframe_2['title'].iloc[movie_indices]"
      ],
      "execution_count": null,
      "outputs": []
    },
    {
      "cell_type": "code",
      "metadata": {
        "_uuid": "14d722124f82e69cb444adcc589e396c75cbb4ff",
        "colab": {
          "base_uri": "https://localhost:8080/"
        },
        "id": "aeAvOaj91Rx-",
        "outputId": "9fa5b138-19a5-48df-8a67-dc5fd81ccd47"
      },
      "source": [
        "get_recommendations('The Dark Knight Rises')"
      ],
      "execution_count": null,
      "outputs": [
        {
          "output_type": "execute_result",
          "data": {
            "text/plain": [
              "65                              The Dark Knight\n",
              "299                              Batman Forever\n",
              "428                              Batman Returns\n",
              "1359                                     Batman\n",
              "3854    Batman: The Dark Knight Returns, Part 2\n",
              "119                               Batman Begins\n",
              "2507                                  Slow Burn\n",
              "9            Batman v Superman: Dawn of Justice\n",
              "1181                                        JFK\n",
              "210                              Batman & Robin\n",
              "Name: title, dtype: object"
            ]
          },
          "metadata": {},
          "execution_count": 78
        }
      ]
    },
    {
      "cell_type": "code",
      "metadata": {
        "_uuid": "902b9f1ab91921889c85e9008818dcc0b4710ccd",
        "colab": {
          "base_uri": "https://localhost:8080/"
        },
        "id": "JK5Es-Wu1Rx-",
        "outputId": "955e1c41-618f-41ea-8f40-20d573f575cb"
      },
      "source": [
        "get_recommendations('The Avengers')"
      ],
      "execution_count": null,
      "outputs": [
        {
          "output_type": "execute_result",
          "data": {
            "text/plain": [
              "7               Avengers: Age of Ultron\n",
              "3144                            Plastic\n",
              "1715                            Timecop\n",
              "4124                 This Thing of Ours\n",
              "3311              Thank You for Smoking\n",
              "3033                      The Corruptor\n",
              "588     Wall Street: Money Never Sleeps\n",
              "2136         Team America: World Police\n",
              "1468                       The Fountain\n",
              "1286                        Snowpiercer\n",
              "Name: title, dtype: object"
            ]
          },
          "metadata": {},
          "execution_count": 79
        }
      ]
    },
    {
      "cell_type": "code",
      "metadata": {
        "_uuid": "59a8d0991e3cae9a44a4b351e154fd1000724448",
        "id": "O_ihOdHo1Rx_"
      },
      "source": [
        "# Parse the stringified features into their corresponding python objects\n",
        "from ast import literal_eval\n",
        "\n",
        "features = ['cast', 'crew', 'keywords', 'genres']\n",
        "for feature in features:\n",
        "    dataframe_2[feature] = dataframe_2[feature].apply(literal_eval)"
      ],
      "execution_count": null,
      "outputs": []
    },
    {
      "cell_type": "code",
      "metadata": {
        "_uuid": "783b0e89f1c04a12ff51eb29cc68e93c818896cd",
        "id": "UNtOZVNI1Rx_"
      },
      "source": [
        "# Get the director's name from the crew feature. If director is not listed, return NaN\n",
        "def get_director(x):\n",
        "    for i in x:\n",
        "        if i['job'] == 'Director':\n",
        "            return i['name']\n",
        "    return np.nan"
      ],
      "execution_count": null,
      "outputs": []
    },
    {
      "cell_type": "code",
      "metadata": {
        "_uuid": "86c4e9f4e6ef1e5ff287f58f3a1119fbddbdae09",
        "id": "UKVSZyIk1RyA"
      },
      "source": [
        "# Returns the list top 3 elements or entire list; whichever is more.\n",
        "def get_list(x):\n",
        "    if isinstance(x, list):\n",
        "        names = [i['name'] for i in x]\n",
        "        #Check if more than 3 elements exist. If yes, return only first three. If no, return entire list.\n",
        "        if len(names) > 3:\n",
        "            names = names[:3]\n",
        "        return names\n",
        "\n",
        "    #Return empty list in case of missing/malformed data\n",
        "    return []"
      ],
      "execution_count": null,
      "outputs": []
    },
    {
      "cell_type": "code",
      "metadata": {
        "_uuid": "dd060c3c1d724de71555218f30cccafd4a8ad6af",
        "id": "fhCyDxCb1RyA"
      },
      "source": [
        "# Define new director, cast, genres and keywords features that are in a suitable form.\n",
        "dataframe_2['director'] = dataframe_2['crew'].apply(get_director)\n",
        "\n",
        "features = ['cast', 'keywords', 'genres']\n",
        "for feature in features:\n",
        "    dataframe_2[feature] = dataframe_2[feature].apply(get_list)"
      ],
      "execution_count": null,
      "outputs": []
    },
    {
      "cell_type": "code",
      "metadata": {
        "_uuid": "87a96f835470aa3df590b74322c2717ff529d6ae",
        "colab": {
          "base_uri": "https://localhost:8080/",
          "height": 195
        },
        "id": "Y-RgQwmF1RyA",
        "outputId": "a9ec76de-3f11-4a27-fe32-eda4476dd6f8"
      },
      "source": [
        "# Print the new features of the first 3 films\n",
        "dataframe_2[['title', 'cast', 'director', 'keywords', 'genres']].head(3)"
      ],
      "execution_count": null,
      "outputs": [
        {
          "output_type": "execute_result",
          "data": {
            "text/html": [
              "<div>\n",
              "<style scoped>\n",
              "    .dataframe tbody tr th:only-of-type {\n",
              "        vertical-align: middle;\n",
              "    }\n",
              "\n",
              "    .dataframe tbody tr th {\n",
              "        vertical-align: top;\n",
              "    }\n",
              "\n",
              "    .dataframe thead th {\n",
              "        text-align: right;\n",
              "    }\n",
              "</style>\n",
              "<table border=\"1\" class=\"dataframe\">\n",
              "  <thead>\n",
              "    <tr style=\"text-align: right;\">\n",
              "      <th></th>\n",
              "      <th>title</th>\n",
              "      <th>cast</th>\n",
              "      <th>director</th>\n",
              "      <th>keywords</th>\n",
              "      <th>genres</th>\n",
              "    </tr>\n",
              "  </thead>\n",
              "  <tbody>\n",
              "    <tr>\n",
              "      <th>0</th>\n",
              "      <td>Avatar</td>\n",
              "      <td>[Sam Worthington, Zoe Saldana, Sigourney Weaver]</td>\n",
              "      <td>James Cameron</td>\n",
              "      <td>[culture clash, future, space war]</td>\n",
              "      <td>[Action, Adventure, Fantasy]</td>\n",
              "    </tr>\n",
              "    <tr>\n",
              "      <th>1</th>\n",
              "      <td>Pirates of the Caribbean: At World's End</td>\n",
              "      <td>[Johnny Depp, Orlando Bloom, Keira Knightley]</td>\n",
              "      <td>Gore Verbinski</td>\n",
              "      <td>[ocean, drug abuse, exotic island]</td>\n",
              "      <td>[Adventure, Fantasy, Action]</td>\n",
              "    </tr>\n",
              "    <tr>\n",
              "      <th>2</th>\n",
              "      <td>Spectre</td>\n",
              "      <td>[Daniel Craig, Christoph Waltz, Léa Seydoux]</td>\n",
              "      <td>Sam Mendes</td>\n",
              "      <td>[spy, based on novel, secret agent]</td>\n",
              "      <td>[Action, Adventure, Crime]</td>\n",
              "    </tr>\n",
              "  </tbody>\n",
              "</table>\n",
              "</div>"
            ],
            "text/plain": [
              "                                      title  ...                        genres\n",
              "0                                    Avatar  ...  [Action, Adventure, Fantasy]\n",
              "1  Pirates of the Caribbean: At World's End  ...  [Adventure, Fantasy, Action]\n",
              "2                                   Spectre  ...    [Action, Adventure, Crime]\n",
              "\n",
              "[3 rows x 5 columns]"
            ]
          },
          "metadata": {},
          "execution_count": 84
        }
      ]
    },
    {
      "cell_type": "code",
      "metadata": {
        "_uuid": "86af764c406a8b6184b37b57cfe499d20ce45f9c",
        "id": "w0yxqMmp1RyB"
      },
      "source": [
        "# Function to convert all strings to lower case and strip names of spaces\n",
        "def clean_data(x):\n",
        "    if isinstance(x, list):\n",
        "        return [str.lower(i.replace(\" \", \"\")) for i in x]\n",
        "    else:\n",
        "        #Check if director exists. If not, return empty string\n",
        "        if isinstance(x, str):\n",
        "            return str.lower(x.replace(\" \", \"\"))\n",
        "        else:\n",
        "            return ''"
      ],
      "execution_count": null,
      "outputs": []
    },
    {
      "cell_type": "code",
      "metadata": {
        "_uuid": "5728cc017ff6ed1dcd79da05b1dd57a60557e853",
        "id": "E8HNZn0l1RyB"
      },
      "source": [
        "# Apply clean_data function to your features.\n",
        "features = ['cast', 'keywords', 'director', 'genres']\n",
        "\n",
        "for feature in features:\n",
        "    dataframe_2[feature] = dataframe_2[feature].apply(clean_data)"
      ],
      "execution_count": null,
      "outputs": []
    },
    {
      "cell_type": "code",
      "metadata": {
        "_uuid": "20aef87703c408926f7617573ed043605207767f",
        "id": "uA2qfBPZ1RyC"
      },
      "source": [
        "def create_soup(x):\n",
        "    return ' '.join(x['keywords']) + ' ' + ' '.join(x['cast']) + ' ' + x['director'] + ' ' + ' '.join(x['genres'])\n",
        "dataframe_2['soup'] = dataframe_2.apply(create_soup, axis=1)"
      ],
      "execution_count": null,
      "outputs": []
    },
    {
      "cell_type": "code",
      "metadata": {
        "_uuid": "b66a1afc1083917d5ef136ccdcd9b50cca087e2b",
        "id": "OtogfAo_1RyC"
      },
      "source": [
        "# Import CountVectorizer and create the count matrix\n",
        "from sklearn.feature_extraction.text import CountVectorizer\n",
        "\n",
        "count = CountVectorizer(stop_words='english')\n",
        "count_matrix = count.fit_transform(dataframe_2['soup'])"
      ],
      "execution_count": null,
      "outputs": []
    },
    {
      "cell_type": "code",
      "metadata": {
        "_uuid": "3fa5539ed1680ed5323f8351ac7e4840f629e958",
        "id": "c-qaWd_K1RyD"
      },
      "source": [
        "# Compute the Cosine Similarity matrix based on the count_matrix\n",
        "from sklearn.metrics.pairwise import cosine_similarity\n",
        "\n",
        "cosine_sim2 = cosine_similarity(count_matrix, count_matrix)"
      ],
      "execution_count": null,
      "outputs": []
    },
    {
      "cell_type": "code",
      "metadata": {
        "_uuid": "b2b8565a04f4bda92d3ba9d15c348af1cd8f8b4d",
        "id": "rpvEYnMb1RyD"
      },
      "source": [
        "# Reset index of our main DataFrame and construct reverse mapping as before\n",
        "dataframe_2 = dataframe_2.reset_index()\n",
        "indices = pd.Series(dataframe_2.index, index=dataframe_2['title'])"
      ],
      "execution_count": null,
      "outputs": []
    },
    {
      "cell_type": "code",
      "metadata": {
        "_uuid": "d1e0e02be7a9e71422d3a492834cb4f8434d1464",
        "colab": {
          "base_uri": "https://localhost:8080/"
        },
        "id": "X3gPMr791RyD",
        "outputId": "4b1d94a1-fb71-42d4-8323-29194d7d3541"
      },
      "source": [
        "get_recommendations('The Dark Knight Rises', cosine_sim2)"
      ],
      "execution_count": null,
      "outputs": [
        {
          "output_type": "execute_result",
          "data": {
            "text/plain": [
              "65               The Dark Knight\n",
              "119                Batman Begins\n",
              "4638    Amidst the Devil's Wings\n",
              "1196                The Prestige\n",
              "3073           Romeo Is Bleeding\n",
              "3326              Black November\n",
              "1503                      Takers\n",
              "1986                      Faster\n",
              "303                     Catwoman\n",
              "747               Gangster Squad\n",
              "Name: title, dtype: object"
            ]
          },
          "metadata": {},
          "execution_count": 91
        }
      ]
    }
  ]
}